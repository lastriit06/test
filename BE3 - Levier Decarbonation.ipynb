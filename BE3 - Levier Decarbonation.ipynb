{
 "cells": [
  {
   "cell_type": "markdown",
   "metadata": {},
   "source": [
    "# Partie 3 : Réglages pour le levier \"Décarbonation du carburant\"\n",
    "<a id=\"10\"></a>\n"
   ]
  },
  {
   "cell_type": "markdown",
   "metadata": {},
   "source": [
    "# Calculs préliminaires"
   ]
  },
  {
   "cell_type": "code",
   "execution_count": null,
   "metadata": {},
   "outputs": [],
   "source": [
    "import numpy as np\n",
    "import matplotlib.pyplot as plt\n",
    "import pandas as pd\n",
    "\n",
    "# https://www.iea.org/sankey/#?c=World&s=Final%20consumption\n",
    "E_primaire_aviation_2019 = (8641+5817)/1000 # EJ\n",
    "part_budget_C_aviation = 2.6/100\n",
    "budget_C = 400 # GtCO2\n",
    "taux_croissance_trafic = 3/100"
   ]
  },
  {
   "cell_type": "markdown",
   "metadata": {},
   "source": [
    "# Première partie : mix électrique et facteur d'émission\n",
    "\n",
    "Allez récupérer sur our world in data les données d'évolution de la production électrique et nettoyez les données : sélectionnez le monde, après 1984, enlevez les deux premières colonnes et renommez les colonnes. Vous ajouterez aussi une colonne avec la somme.\n",
    "\n",
    "source : https://ourworldindata.org/grapher/electricity-prod-source-stacked"
   ]
  },
  {
   "cell_type": "code",
   "execution_count": null,
   "metadata": {},
   "outputs": [],
   "source": [
    "evol_prod_elec = pd.read_csv(\"BE-decarbo/electricity-prod-source-stacked.csv\")\n",
    "evol_prod_elec = evol_prod_elec[(evol_prod_elec.Entity==\"World\") & (evol_prod_elec.Year>1984)]\n",
    "del evol_prod_elec['Entity']\n",
    "del evol_prod_elec['Code']\n",
    "source_elec = ['charbon','gaz','hydro','autre','pv','petrole','eolien','nucleaire']\n",
    "source_elec_bc = ['hydro','autre','pv','eolien','nucleaire']\n",
    "evol_prod_elec.columns = ['annee'] + source_elec\n",
    "evol_prod_elec.head()"
   ]
  },
  {
   "cell_type": "code",
   "execution_count": null,
   "metadata": {},
   "outputs": [],
   "source": [
    "evol_prod_elec['total'] = evol_prod_elec.iloc[:,1:].sum(axis=1)\n",
    "evol_prod_elec['total bc'] = evol_prod_elec[source_elec_bc].sum(axis=1)\n",
    "for s in source_elec:\n",
    "    name = 'prop '+s\n",
    "    evol_prod_elec[name] = evol_prod_elec[s]/evol_prod_elec['total']\n",
    "evol_prod_elec.head()"
   ]
  },
  {
   "cell_type": "markdown",
   "metadata": {},
   "source": [
    "Allez récupérer sur our world in data les données d'évolution du mix électrique et tracez son évolution.\n",
    "\n",
    "source : https://ourworldindata.org/grapher/share-elec-by-source"
   ]
  },
  {
   "cell_type": "code",
   "execution_count": null,
   "metadata": {},
   "outputs": [],
   "source": [
    "for s in source_elec:\n",
    "    plt.plot(evol_prod_elec['annee'], evol_prod_elec[s],label=s)\n",
    "plt.legend()\n",
    "plt.show()"
   ]
  },
  {
   "cell_type": "markdown",
   "metadata": {},
   "source": [
    "Allez récupérer dans le 5ème rapport d'évaluation du GIEC les données concernant les facteurs d'émission des différentes sources d'électricité.\n",
    "\n",
    "source : https://www.ipcc.ch/site/assets/uploads/2018/02/ipcc_wg3_ar5_annex-iii.pdf"
   ]
  },
  {
   "cell_type": "code",
   "execution_count": null,
   "metadata": {},
   "outputs": [],
   "source": [
    "# valeurs des facteurs d'émission en ??\n",
    "source_elec = ['charbon','gaz','hydro','autre','pv','petrole','eolien','nucleaire']\n",
    "facteurs_emission = pd.DataFrame({'source':source_elec,'valeur':[1,2,3,4,5,6,7,8]})"
   ]
  },
  {
   "cell_type": "markdown",
   "metadata": {},
   "source": [
    "En supposant que les facteurs d'émission sont restés constants, tracez l'évolution des émissions de CO2 et du facteur d'émission au cours du temps."
   ]
  },
  {
   "cell_type": "code",
   "execution_count": null,
   "metadata": {},
   "outputs": [],
   "source": [
    "# pour tracer l'évolution du facteur d'émission il faudrait faire un produit matriciel\n",
    "x = evol_prod_elec[source_elec].to_numpy()\n",
    "y = facteurs_emission.iloc[:,1].to_numpy()\n",
    "evol_prod_elec['CO2'] = pd.DataFrame(data=x.dot(y), columns=[\"CO2\"])\n",
    "evol_prod_elec.head()\n",
    "# fe_elec_2020 = 1 # gCO2/MJ"
   ]
  },
  {
   "cell_type": "markdown",
   "metadata": {},
   "source": [
    "Dans le reste, on parle de mix \"bas carbone\" pour désigner l'électricité produite à partir d'énergies renouvelables (PV, éolien, hydro) ou de nucléaire.\n",
    "\n",
    "Reprenez toutes les questions ci-dessus mais uniquement pour l'électricité bas carbone."
   ]
  },
  {
   "cell_type": "code",
   "execution_count": null,
   "metadata": {},
   "outputs": [],
   "source": [
    "evol_prod_elec_bc = pd.read_csv(\"BE-decarbo/electricity-prod-source-stacked.csv\")\n",
    "evol_prod_elec_bc = evol_prod_elec_bc[(evol_prod_elec_bc.Entity==\"World\") & (evol_prod_elec_bc.Year>1984)]\n",
    "del evol_prod_elec_bc['Entity']\n",
    "del evol_prod_elec_bc['Code']\n",
    "evol_prod_elec_bc.columns = ['annee'] + source_elec\n",
    "del evol_prod_elec_bc['charbon']\n",
    "del evol_prod_elec_bc['gaz']\n",
    "del evol_prod_elec_bc['petrole']\n",
    "evol_prod_elec_bc.head()\n",
    "\n",
    "evol_prod_elec_bc['total'] = evol_prod_elec_bc.iloc[:,1:].sum(axis=1)\n",
    "source_elec_bc = ['hydro','autre','pv','eolien','nucleaire']\n",
    "for s in source_elec_bc:\n",
    "    name = 'prop '+s\n",
    "    evol_prod_elec_bc[name] = evol_prod_elec_bc[s]/evol_prod_elec_bc['total']\n",
    "    plt.plot(evol_prod_elec_bc['annee'], evol_prod_elec_bc[name], label=s)\n",
    "evol_prod_elec_bc.head()\n",
    "plt.legend()\n",
    "plt.show()\n"
   ]
  },
  {
   "cell_type": "markdown",
   "metadata": {},
   "source": [
    "# Deuxième partie : avion tout électrique\n",
    "\n",
    "Gnadt et al étudient un avion tout électrique de 180 places. Nous prendrons leurs valeurs :\n",
    "- perte entre la production d'électricité et l'énergie embarquée : ~25%\n",
    "- besoin en énergie embarquée par rapport à un avion conventionnel : +60%\n",
    "\n",
    "Imaginons que tous les avions deviennent des avions tout électrique et que les besoins en énergie augmentent dans les proportions ci-dessus.\n",
    "\n",
    "1. Combien d'électricité faudrait-il **produire** ? Comparez cette valeur à la quantité d'électricité totale, et la quantité d'électricité bas carbone."
   ]
  },
  {
   "cell_type": "code",
   "execution_count": null,
   "metadata": {},
   "outputs": [],
   "source": []
  },
  {
   "cell_type": "markdown",
   "metadata": {},
   "source": [
    "2. Avec le mix électrique mondial actuel, quelle serait l'évolution des émissions de CO2 ? et avec un mix électrique bas carbone ? Commentez les résultats obtenus."
   ]
  },
  {
   "cell_type": "code",
   "execution_count": null,
   "metadata": {},
   "outputs": [],
   "source": []
  },
  {
   "cell_type": "markdown",
   "metadata": {},
   "source": [
    "3. Quelle devrait être la valeur du mix électrique mondial pour que cette solution devienne intéressante ? Suivant les prévisions de XXX, à quelle date devrait-on atteindre une telle valeur ?\n",
    "\n",
    "source : gnadt et al"
   ]
  },
  {
   "cell_type": "code",
   "execution_count": null,
   "metadata": {},
   "outputs": [],
   "source": []
  },
  {
   "cell_type": "markdown",
   "metadata": {},
   "source": [
    "# Troisième partie : avion à hydrogène\n",
    "\n",
    "Comme pour l'avion tout électrique, on imagine que tous les avions sont instantanément remplacés par des avions à hydrogène et on cherche à comprendre l'impact sur l'énergie et les émissions. De nombreuses données sont disponibles dans le rapport \"Global Hydrogen Review 2021\" de l'AIE sur l'hydrogène.\n",
    "\n",
    "https://iea.blob.core.windows.net/assets/5bd46d7b-906a-4429-abda-e9c507a62341/GlobalHydrogenReview2021.pdf\n",
    "\n",
    "### 3.1 Analyse préliminaire\n",
    "\n",
    "Le tableau suivant présente plusieurs.\n",
    "1. Choisissez et justifiez **une seule** valeur d'évolution du besoin en énergie embarquée, que vous utiliserez par la suite."
   ]
  },
  {
   "cell_type": "code",
   "execution_count": null,
   "metadata": {},
   "outputs": [],
   "source": [
    "evol_efficacite_H2 = pd.read_csv(\"BE-decarbo/evol_efficacite_H2.csv\")\n",
    "evol_efficacite_H2.head()"
   ]
  },
  {
   "cell_type": "code",
   "execution_count": null,
   "metadata": {},
   "outputs": [],
   "source": [
    "scenario_H2_besoin_energie_embarquee = E_primaire_aviation_2019"
   ]
  },
  {
   "cell_type": "markdown",
   "metadata": {},
   "source": [
    "Trouvez la valeur du PCI de l'hydrogène ainsi que l'énergie nécessaire pour sa liquéfaction (pour la liquéfaction, cf partie \"\" du rapport de l'AIE). Déduisez-en la quantité d'énergie supplémentaire à utiliser pour alimenter la flotte mondiale en hydrogène liquide."
   ]
  },
  {
   "cell_type": "code",
   "execution_count": null,
   "metadata": {},
   "outputs": [],
   "source": [
    "PCI_H2 = 119.96 # MJH2/kgH2\n",
    "energie_liquefaction = PCI_H2/3 # MJ/kgH2\n",
    "energie_liquefaction_2 = energie_liquefaction / PCI_H2 * scenario_H2_besoin_energie_embarquee"
   ]
  },
  {
   "cell_type": "markdown",
   "metadata": {},
   "source": [
    "### 3.2 Méthodes de production actuelles\n",
    "\n",
    "\n",
    "Dans la partie \"Hydrogen supply\", faites une estimation du facteur d'émission de l'hydrogène."
   ]
  },
  {
   "cell_type": "code",
   "execution_count": null,
   "metadata": {},
   "outputs": [],
   "source": [
    "prod_H2_total = 90 # MtH2\n",
    "prod_H2_emissions_CO2 = 900 # MtCO2\n",
    "prod_H2_fe = prod_H2_emissions_CO2/prod_H2_total #kgCO2/kgH2\n",
    "print(prod_H2_fe)"
   ]
  },
  {
   "cell_type": "markdown",
   "metadata": {},
   "source": [
    "Retrouvez cette valeur à partir des valeurs indiquées pour le facteur d'émission à partir du gaz naturel et du charbon."
   ]
  },
  {
   "cell_type": "code",
   "execution_count": null,
   "metadata": {},
   "outputs": [],
   "source": [
    "prod_H2_prop_gaz = 0.59\n",
    "prod_H2_fe_gaz = 11.7 # kgCO2/kgH2\n",
    "prod_H2_prop_charbon = 0.19\n",
    "prod_H2_fe_charbon = 20 # kgCO2/kgH2\n",
    "print(prod_H2_prop_gaz*prod_H2_fe_gaz + prod_H2_prop_charbon*prod_H2_fe_charbon)\n",
    "# print(prod_H2_total*prod_H2_prop_gaz*prod_H2_fe_gaz + prod_H2_total*prod_H2_prop_charbon*prod_H2_fe_charbon)"
   ]
  },
  {
   "cell_type": "markdown",
   "metadata": {},
   "source": [
    "En supposant que tous les avions actuels sont remplacés par des avions à hydrogène produit avec les méthodes actuelles de production et en utilisant le mix électrique actuel, calculez et commentez les émissions de CO2 correspondantes."
   ]
  },
  {
   "cell_type": "code",
   "execution_count": null,
   "metadata": {},
   "outputs": [],
   "source": [
    "scenario_H2_prod_actuelle_CO2 = 1"
   ]
  },
  {
   "cell_type": "markdown",
   "metadata": {},
   "source": [
    "### 3.3 Production par électrolyse\n",
    "\n",
    "On suppose maintenant que l'hydrogène est produit par électrolyse de l'eau, et on étudiera deux cas :\n",
    "1. le mix électrique actuel\n",
    "2. un mix électrique bas carbone\n",
    "\n",
    "On commence par étudier l'électrolyse.\n",
    "1. Trouver des valeurs de rendement de l'électrolyse."
   ]
  },
  {
   "cell_type": "code",
   "execution_count": null,
   "metadata": {},
   "outputs": [],
   "source": [
    "rendement_electrolyse_min = 1\n",
    "rendement_electrolyse_max = 1"
   ]
  },
  {
   "cell_type": "markdown",
   "metadata": {},
   "source": [
    "Calculez la quantité d'électricité produite nécessaire, et comparez-la à la quantité d'électricité produite actuellement, et à la quantité d'électricité produite de manière bas carbone."
   ]
  },
  {
   "cell_type": "code",
   "execution_count": null,
   "metadata": {},
   "outputs": [],
   "source": [
    "besoin_energie_primaire = 1"
   ]
  }
 ],
 "metadata": {
  "kernelspec": {
   "display_name": "Python 3",
   "language": "python",
   "name": "python3"
  },
  "language_info": {
   "codemirror_mode": {
    "name": "ipython",
    "version": 3
   },
   "file_extension": ".py",
   "mimetype": "text/x-python",
   "name": "python",
   "nbconvert_exporter": "python",
   "pygments_lexer": "ipython3",
   "version": "3.7.4"
  }
 },
 "nbformat": 4,
 "nbformat_minor": 5
}
