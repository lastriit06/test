{
 "cells": [
  {
   "cell_type": "markdown",
   "id": "109cea4e-d42f-4359-902e-2e489b3a49a8",
   "metadata": {},
   "source": [
    "# **Partie 1 : Choix d'un récit pour l'aviation du futur**\n",
    "<a id=\"10\"></a>\n",
    "\n",
    "Suite à la fresque de l'aéronautique que vous venez de suivre, vous devez imaginer un récit pour l'aviation durable de demain, qui vous servira de base pour réaliser un scénario prospectif initial. L'objectif de ce Notebook est de récapituler les choix que vous avez fait concernant les différents enjeux de l'aviation.\n",
    "\n",
    "-----\n",
    "-----\n",
    "\n",
    "Remplissez le tableau pour les choix suivants en complétant directement le code.\n",
    "\n",
    "- L'objectif raisonnable pour vous est de vivre dans un monde avec une élévation de température de : 1,5 - 1,6 - 1,7 - 1,8 - 1,9 - 2°C\n",
    "\n",
    "- Vous souhaitez que cet objectif soit réalisé avec le pourcentage de réussite suivant : 33% - 50% (correspond aux valeurs médianes des études scientifiques) - 67%\n",
    "\n",
    "- Dans ce monde, l'évolution du trafic aérien entre 2020 et 2050 sera en : Baisse (exemple : -3%/an) - Stagnation (0%/an) - Augmentation (exemple : 3%/an)\n",
    "\n",
    "- L'aviation étant un secteur complexe (difficile à décarboner, utilisé par une faible part de la population, importance sur l'économie et sur l'emploi...), quelles seront les spécificités qui lui seront demandées lors de sa transition ? Des efforts plus importants que les autres secteurs (exemple : 2% du budget carbone) - Des efforts équivalents à l'ensemble des secteurs (2,6% du budget carbone) - Des marges de manoeuvre par rapport aux autres secteurs (3,2% du budget carbone)"
   ]
  },
  {
   "cell_type": "code",
   "execution_count": 1,
   "id": "a2919395-7871-45a3-89c1-8ce978726e62",
   "metadata": {
    "tags": []
   },
   "outputs": [],
   "source": [
    "import ipysheet\n",
    "from ipysheet import sheet, cell, to_dataframe\n",
    "\n",
    "Choix = sheet(rows=2, columns=4)\n",
    "\n",
    "cell(0,0,\"Température objectif\", color=\"white\", background_color=\"grey\");\n",
    "cell(0,1,\"Pourcentage de réussite\", color=\"white\", background_color=\"grey\");\n",
    "cell(0,2,\"Taux de (dé)croissance annuel du trafic aérien\", color=\"white\", background_color=\"grey\");\n",
    "cell(0,3,\"Part du budget carbone mondial allouée à l'aviation\", color=\"white\", background_color=\"grey\");\n",
    "\n",
    "cell(1,0,\"\");\n",
    "cell(1,1,\"\");\n",
    "cell(1,2,\"\");\n",
    "cell(1,3,\"\");"
   ]
  },
  {
   "cell_type": "code",
   "execution_count": 2,
   "id": "94536ba5-0ed5-4ae4-a204-3d472502a011",
   "metadata": {},
   "outputs": [
    {
     "data": {
      "application/vnd.jupyter.widget-view+json": {
       "model_id": "d28bf3cbceff4cc990b9d82d022f18f5",
       "version_major": 2,
       "version_minor": 0
      },
      "text/plain": [
       "Sheet(cells=(Cell(column_end=0, column_start=0, row_end=0, row_start=0, style={'color': 'white', 'backgroundCo…"
      ]
     },
     "metadata": {},
     "output_type": "display_data"
    }
   ],
   "source": [
    "Choix"
   ]
  },
  {
   "cell_type": "code",
   "execution_count": 3,
   "id": "f5873e4f-6bc6-4e03-a56b-c09d62aa0116",
   "metadata": {},
   "outputs": [
    {
     "data": {
      "application/vnd.jupyter.widget-view+json": {
       "model_id": "d28bf3cbceff4cc990b9d82d022f18f5",
       "version_major": 2,
       "version_minor": 0
      },
      "text/plain": [
       "Sheet(cells=(Cell(column_end=0, column_start=0, row_end=0, row_start=0, style={'color': 'white', 'backgroundCo…"
      ]
     },
     "metadata": {},
     "output_type": "display_data"
    }
   ],
   "source": [
    "Choix"
   ]
  },
  {
   "cell_type": "code",
   "execution_count": null,
   "id": "e704b3e5-0233-404f-a471-d299585ff8f4",
   "metadata": {},
   "outputs": [],
   "source": []
  }
 ],
 "metadata": {
  "kernelspec": {
   "display_name": "Python 3 (ipykernel)",
   "language": "python",
   "name": "python3"
  },
  "language_info": {
   "codemirror_mode": {
    "name": "ipython",
    "version": 3
   },
   "file_extension": ".py",
   "mimetype": "text/x-python",
   "name": "python",
   "nbconvert_exporter": "python",
   "pygments_lexer": "ipython3",
   "version": "3.8.10"
  }
 },
 "nbformat": 4,
 "nbformat_minor": 5
}
