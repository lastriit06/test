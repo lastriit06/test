{
 "cells": [
  {
   "cell_type": "markdown",
   "metadata": {},
   "source": [
    "# **Partie 3 : Réglages pour le levier \"Décarbonation du carburant\"**\n",
    "<a id=\"10\"></a>\n"
   ]
  },
  {
   "cell_type": "markdown",
   "metadata": {},
   "source": [
    "Première partie : électricité"
   ]
  },
  {
   "cell_type": "code",
   "execution_count": null,
   "metadata": {},
   "outputs": [],
   "source": [
    "# valeurs des facteurs d'émission en 2020\n",
    "# unité : gCO2-eq/MJ\n",
    "fe_nucleaire = \n",
    "fe_pv = \n",
    "fe_hydro = \n",
    "fe_eolien = \n",
    "fe_charbon = \n",
    "fe_gaz = \n",
    "fe_petrole = "
   ]
  }
 ],
 "metadata": {
  "kernelspec": {
   "display_name": "Python 3",
   "language": "python",
   "name": "python3"
  },
  "language_info": {
   "codemirror_mode": {
    "name": "ipython",
    "version": 3
   },
   "file_extension": ".py",
   "mimetype": "text/x-python",
   "name": "python",
   "nbconvert_exporter": "python",
   "pygments_lexer": "ipython3",
   "version": "3.7.4"
  }
 },
 "nbformat": 4,
 "nbformat_minor": 5
}
