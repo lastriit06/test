{
 "cells": [
  {
   "cell_type": "markdown",
   "metadata": {},
   "source": [
    "# Partie 3 : Réglages pour le levier \"Décarbonation du carburant\"\n",
    "<a id=\"10\"></a>\n"
   ]
  },
  {
   "cell_type": "markdown",
   "metadata": {},
   "source": [
    "# Calculs préliminaires"
   ]
  },
  {
   "cell_type": "code",
   "execution_count": 1,
   "metadata": {},
   "outputs": [],
   "source": [
    "import numpy as np\n",
    "import matplotlib.pyplot as plt\n",
    "import pandas as pd\n",
    "\n",
    "# https://www.iea.org/sankey/#?c=World&s=Final%20consumption\n",
    "E_primaire_aviation_2019 = (8641+5817)/1000 # EJ\n",
    "part_budget_C_aviation = 2.6/100\n",
    "budget_C = 400 # GtCO2\n",
    "taux_croissance_trafic = 3/100"
   ]
  },
  {
   "cell_type": "markdown",
   "metadata": {},
   "source": [
    "# Première partie : mix électrique et facteur d'émission\n",
    "\n",
    "Allez récupérer dans le 5ème rapport d'évaluation du GIEC les données concernant les facteurs d'émission des différentes sources d'électricité.\n",
    "\n",
    "source : https://www.ipcc.ch/site/assets/uploads/2018/02/ipcc_wg3_ar5_annex-iii.pdf"
   ]
  },
  {
   "cell_type": "code",
   "execution_count": 12,
   "metadata": {},
   "outputs": [
    {
     "name": "stdout",
     "output_type": "stream",
     "text": [
      "0    1\n",
      "1    2\n",
      "2    3\n",
      "3    4\n",
      "4    5\n",
      "5    6\n",
      "6    7\n",
      "7    8\n",
      "Name: valeur, dtype: int64\n"
     ]
    }
   ],
   "source": [
    "# valeurs des facteurs d'émission en ??\n",
    "source_elec = ['charbon','gaz','hydro','pv','eolien','petrole','nucleaire','autre']\n",
    "facteurs_emission = pd.DataFrame({'source':source_elec,'valeur':[1,2,3,4,5,6,7,8]})\n",
    "print(facteurs_emission.iloc[:,1])"
   ]
  },
  {
   "cell_type": "markdown",
   "metadata": {},
   "source": [
    "Allez récupérer sur our world in data les données d'évolution du mix électrique et tracez son évolution.\n",
    "\n",
    "source : https://ourworldindata.org/grapher/share-elec-by-source"
   ]
  },
  {
   "cell_type": "code",
   "execution_count": 50,
   "metadata": {},
   "outputs": [
    {
     "data": {
      "image/png": "[encoded data removed]",
      "text/plain": [
       "<Figure size 432x288 with 1 Axes>"
      ]
     },
     "metadata": {
      "needs_background": "light"
     },
     "output_type": "display_data"
    }
   ],
   "source": [
    "evol_mix_elec = pd.read_csv(\"BE-decarbo/share-elec-by-source.csv\")\n",
    "evol_mix_elec = evol_mix_elec[(evol_mix_elec.Entity==\"World\")]\n",
    "del evol_mix_elec['Entity']\n",
    "del evol_mix_elec['Code']\n",
    "evol_mix_elec.columns = ['annee'] + source_elec\n",
    "for s in source_elec:\n",
    "    plt.plot(evol_mix_elec['annee'], evol_mix_elec[s],label=s)\n",
    "plt.legend()\n",
    "plt.show()"
   ]
  },
  {
   "cell_type": "markdown",
   "metadata": {},
   "source": [
    "En supposant que les facteurs d'émission sont restés constants, tracez l'évolution du facteur d'émission au cours du temps."
   ]
  },
  {
   "cell_type": "code",
   "execution_count": 72,
   "metadata": {},
   "outputs": [
    {
     "name": "stdout",
     "output_type": "stream",
     "text": [
      "      charbon     gaz\n",
      "5793   37.726  14.043\n",
      "5794   38.045  14.187\n",
      "1    2\n",
      "2    3\n",
      "Name: valeur, dtype: int64\n"
     ]
    },
    {
     "ename": "ValueError",
     "evalue": "matrices are not aligned",
     "output_type": "error",
     "traceback": [
      "\u001b[0;31m---------------------------------------------------------------------------\u001b[0m",
      "\u001b[0;31mValueError\u001b[0m                                Traceback (most recent call last)",
      "\u001b[0;32m<ipython-input-72-892a01e87af2>\u001b[0m in \u001b[0;36m<module>\u001b[0;34m\u001b[0m\n\u001b[1;32m      4\u001b[0m \u001b[0mprint\u001b[0m\u001b[0;34m(\u001b[0m\u001b[0mx\u001b[0m\u001b[0;34m)\u001b[0m\u001b[0;34m\u001b[0m\u001b[0;34m\u001b[0m\u001b[0m\n\u001b[1;32m      5\u001b[0m \u001b[0mprint\u001b[0m\u001b[0;34m(\u001b[0m\u001b[0my\u001b[0m\u001b[0;34m)\u001b[0m\u001b[0;34m\u001b[0m\u001b[0;34m\u001b[0m\u001b[0m\n\u001b[0;32m----> 6\u001b[0;31m \u001b[0mprint\u001b[0m\u001b[0;34m(\u001b[0m\u001b[0mx\u001b[0m\u001b[0;34m.\u001b[0m\u001b[0mdot\u001b[0m\u001b[0;34m(\u001b[0m\u001b[0my\u001b[0m\u001b[0;34m)\u001b[0m\u001b[0;34m)\u001b[0m\u001b[0;34m\u001b[0m\u001b[0;34m\u001b[0m\u001b[0m\n\u001b[0m\u001b[1;32m      7\u001b[0m \u001b[0mfe_elec_2020\u001b[0m \u001b[0;34m=\u001b[0m \u001b[0;36m1\u001b[0m \u001b[0;31m# gCO2/MJ\u001b[0m\u001b[0;34m\u001b[0m\u001b[0;34m\u001b[0m\u001b[0m\n",
      "\u001b[0;32m/Library/Frameworks/Python.framework/Versions/3.7/lib/python3.7/site-packages/pandas/core/frame.py\u001b[0m in \u001b[0;36mdot\u001b[0;34m(self, other)\u001b[0m\n\u001b[1;32m   1061\u001b[0m             \u001b[0mcommon\u001b[0m \u001b[0;34m=\u001b[0m \u001b[0mself\u001b[0m\u001b[0;34m.\u001b[0m\u001b[0mcolumns\u001b[0m\u001b[0;34m.\u001b[0m\u001b[0munion\u001b[0m\u001b[0;34m(\u001b[0m\u001b[0mother\u001b[0m\u001b[0;34m.\u001b[0m\u001b[0mindex\u001b[0m\u001b[0;34m)\u001b[0m\u001b[0;34m\u001b[0m\u001b[0;34m\u001b[0m\u001b[0m\n\u001b[1;32m   1062\u001b[0m             \u001b[0;32mif\u001b[0m \u001b[0mlen\u001b[0m\u001b[0;34m(\u001b[0m\u001b[0mcommon\u001b[0m\u001b[0;34m)\u001b[0m \u001b[0;34m>\u001b[0m \u001b[0mlen\u001b[0m\u001b[0;34m(\u001b[0m\u001b[0mself\u001b[0m\u001b[0;34m.\u001b[0m\u001b[0mcolumns\u001b[0m\u001b[0;34m)\u001b[0m \u001b[0;32mor\u001b[0m \u001b[0mlen\u001b[0m\u001b[0;34m(\u001b[0m\u001b[0mcommon\u001b[0m\u001b[0;34m)\u001b[0m \u001b[0;34m>\u001b[0m \u001b[0mlen\u001b[0m\u001b[0;34m(\u001b[0m\u001b[0mother\u001b[0m\u001b[0;34m.\u001b[0m\u001b[0mindex\u001b[0m\u001b[0;34m)\u001b[0m\u001b[0;34m:\u001b[0m\u001b[0;34m\u001b[0m\u001b[0;34m\u001b[0m\u001b[0m\n\u001b[0;32m-> 1063\u001b[0;31m                 \u001b[0;32mraise\u001b[0m \u001b[0mValueError\u001b[0m\u001b[0;34m(\u001b[0m\u001b[0;34m\"matrices are not aligned\"\u001b[0m\u001b[0;34m)\u001b[0m\u001b[0;34m\u001b[0m\u001b[0;34m\u001b[0m\u001b[0m\n\u001b[0m\u001b[1;32m   1064\u001b[0m \u001b[0;34m\u001b[0m\u001b[0m\n\u001b[1;32m   1065\u001b[0m             \u001b[0mleft\u001b[0m \u001b[0;34m=\u001b[0m \u001b[0mself\u001b[0m\u001b[0;34m.\u001b[0m\u001b[0mreindex\u001b[0m\u001b[0;34m(\u001b[0m\u001b[0mcolumns\u001b[0m\u001b[0;34m=\u001b[0m\u001b[0mcommon\u001b[0m\u001b[0;34m,\u001b[0m \u001b[0mcopy\u001b[0m\u001b[0;34m=\u001b[0m\u001b[0;32mFalse\u001b[0m\u001b[0;34m)\u001b[0m\u001b[0;34m\u001b[0m\u001b[0;34m\u001b[0m\u001b[0m\n",
      "\u001b[0;31mValueError\u001b[0m: matrices are not aligned"
     ]
    }
   ],
   "source": [
    "# pour tracer l'évolution du facteur d'émission il faudrait faire un produit matriciel\n",
    "x = evol_mix_elec.iloc[1:3,1:3]\n",
    "y = facteurs_emission.iloc[1:3,1]\n",
    "print(x)\n",
    "print(y)\n",
    "print(x.dot(y))\n",
    "fe_elec_2020 = 1 # gCO2/MJ"
   ]
  },
  {
   "cell_type": "markdown",
   "metadata": {},
   "source": [
    "Dans le reste, on parle de mix \"bas carbone\" pour désigner l'électricité produite à partir d'énergies renouvelables (PV, éolien, hydro) ou de nucléaire.\n",
    "\n",
    "Tracez l'évolution du facteur d'émission de l'électricité bas carbone au cours du temps, et calculez la valeur actuelle."
   ]
  },
  {
   "cell_type": "code",
   "execution_count": null,
   "metadata": {},
   "outputs": [],
   "source": []
  },
  {
   "cell_type": "markdown",
   "metadata": {},
   "source": [
    "# Deuxième partie : avion tout électrique\n",
    "\n",
    "Gnadt et al étudient un avion tout électrique de 180 places. Nous prendrons leurs valeurs :\n",
    "- perte entre la production d'électricité et l'énergie embarquée : ~25%\n",
    "- besoin en énergie embarquée par rapport à un avion conventionnel : +60%\n",
    "\n",
    "Imaginons que tous les avions deviennent des avions tout électrique et que les besoins en énergie augmentent dans les proportions ci-dessus.\n",
    "\n",
    "1. Combien d'électricité faudrait-il **produire** ? Comparez cette valeur à la quantité d'électricité totale, et la quantité d'électricité bas carbone."
   ]
  },
  {
   "cell_type": "code",
   "execution_count": null,
   "metadata": {},
   "outputs": [],
   "source": []
  },
  {
   "cell_type": "markdown",
   "metadata": {},
   "source": [
    "2. Avec le mix électrique mondial actuel, quelle serait l'évolution des émissions de CO2 ? et avec un mix électrique bas carbone ? Commentez les résultats obtenus."
   ]
  },
  {
   "cell_type": "code",
   "execution_count": null,
   "metadata": {},
   "outputs": [],
   "source": []
  },
  {
   "cell_type": "markdown",
   "metadata": {},
   "source": [
    "3. Quelle devrait être la valeur du mix électrique mondial pour que cette solution devienne intéressante ? Suivant les prévisions de XXX, à quelle date devrait-on atteindre une telle valeur ?\n",
    "\n",
    "source : gnadt et al"
   ]
  },
  {
   "cell_type": "code",
   "execution_count": null,
   "metadata": {},
   "outputs": [],
   "source": []
  },
  {
   "cell_type": "markdown",
   "metadata": {},
   "source": [
    "# Troisième partie : avion à hydrogène\n",
    "\n",
    "Comme pour l'avion tout électrique, on imagine que tous les avions sont instantanément remplacés par des avions à hydrogène et on cherche à comprendre l'impact sur l'énergie et les émissions. De nombreuses données sont disponibles dans le rapport \"Global Hydrogen Review 2021\" de l'AIE sur l'hydrogène.\n",
    "\n",
    "https://iea.blob.core.windows.net/assets/5bd46d7b-906a-4429-abda-e9c507a62341/GlobalHydrogenReview2021.pdf\n",
    "\n",
    "### 3.1 Analyse préliminaire\n",
    "\n",
    "Le tableau suivant présente plusieurs.\n",
    "1. Choisissez et justifiez **une seule** valeur d'évolution du besoin en énergie embarquée, que vous utiliserez par la suite."
   ]
  },
  {
   "cell_type": "code",
   "execution_count": 77,
   "metadata": {},
   "outputs": [
    {
     "data": {
      "text/html": [
       "<div>\n",
       "<style scoped>\n",
       "    .dataframe tbody tr th:only-of-type {\n",
       "        vertical-align: middle;\n",
       "    }\n",
       "\n",
       "    .dataframe tbody tr th {\n",
       "        vertical-align: top;\n",
       "    }\n",
       "\n",
       "    .dataframe thead th {\n",
       "        text-align: right;\n",
       "    }\n",
       "</style>\n",
       "<table border=\"1\" class=\"dataframe\">\n",
       "  <thead>\n",
       "    <tr style=\"text-align: right;\">\n",
       "      <th></th>\n",
       "      <th>source</th>\n",
       "      <th>court-courrier</th>\n",
       "      <th>moyen-courrier</th>\n",
       "      <th>long-courrier</th>\n",
       "    </tr>\n",
       "  </thead>\n",
       "  <tbody>\n",
       "    <tr>\n",
       "      <td>0</td>\n",
       "      <td>clean sky</td>\n",
       "      <td>-4%</td>\n",
       "      <td>+22%</td>\n",
       "      <td>+42%</td>\n",
       "    </tr>\n",
       "    <tr>\n",
       "      <td>1</td>\n",
       "      <td>verstraete</td>\n",
       "      <td>+18%</td>\n",
       "      <td>+5%</td>\n",
       "      <td>-12%</td>\n",
       "    </tr>\n",
       "    <tr>\n",
       "      <td>2</td>\n",
       "      <td>CRYOPLANE</td>\n",
       "      <td>+14% à +18%</td>\n",
       "      <td>+10%</td>\n",
       "      <td>+9% à +14%</td>\n",
       "    </tr>\n",
       "  </tbody>\n",
       "</table>\n",
       "</div>"
      ],
      "text/plain": [
       "       source  court-courrier  moyen-courrier  long-courrier\n",
       "0   clean sky             -4%            +22%           +42%\n",
       "1  verstraete            +18%             +5%           -12%\n",
       "2   CRYOPLANE     +14% à +18%            +10%     +9% à +14%"
      ]
     },
     "execution_count": 77,
     "metadata": {},
     "output_type": "execute_result"
    }
   ],
   "source": [
    "evol_efficacite_H2 = pd.read_csv(\"BE-decarbo/evol_efficacite_H2.csv\")\n",
    "evol_efficacite_H2.head()"
   ]
  },
  {
   "cell_type": "code",
   "execution_count": 82,
   "metadata": {},
   "outputs": [],
   "source": [
    "scenario_H2_besoin_energie_embarquee = E_primaire_aviation_2019"
   ]
  },
  {
   "cell_type": "markdown",
   "metadata": {},
   "source": [
    "Trouvez la valeur du PCI de l'hydrogène ainsi que l'énergie nécessaire pour sa liquéfaction (pour la liquéfaction, cf partie \"\" du rapport de l'AIE). Déduisez-en la quantité d'énergie supplémentaire à utiliser pour alimenter la flotte mondiale en hydrogène liquide."
   ]
  },
  {
   "cell_type": "code",
   "execution_count": 83,
   "metadata": {},
   "outputs": [],
   "source": [
    "PCI_H2 = 119.96 # MJH2/kgH2\n",
    "energie_liquefaction = PCI_H2/3 # MJ/kgH2\n",
    "energie_liquefaction_2 = energie_liquefaction / PCI_H2 * scenario_H2_besoin_energie_embarquee"
   ]
  },
  {
   "cell_type": "markdown",
   "metadata": {},
   "source": [
    "### 3.2 Méthodes de production actuelles\n",
    "\n",
    "\n",
    "Dans la partie \"Hydrogen supply\", faites une estimation du facteur d'émission de l'hydrogène."
   ]
  },
  {
   "cell_type": "code",
   "execution_count": 78,
   "metadata": {},
   "outputs": [
    {
     "name": "stdout",
     "output_type": "stream",
     "text": [
      "10.0\n"
     ]
    }
   ],
   "source": [
    "prod_H2_total = 90 # MtH2\n",
    "prod_H2_emissions_CO2 = 900 # MtCO2\n",
    "prod_H2_fe = prod_H2_emissions_CO2/prod_H2_total #kgCO2/kgH2\n",
    "print(prod_H2_fe)"
   ]
  },
  {
   "cell_type": "markdown",
   "metadata": {},
   "source": [
    "Retrouvez cette valeur à partir des valeurs indiquées pour le facteur d'émission à partir du gaz naturel et du charbon."
   ]
  },
  {
   "cell_type": "code",
   "execution_count": 79,
   "metadata": {},
   "outputs": [
    {
     "name": "stdout",
     "output_type": "stream",
     "text": [
      "10.703\n"
     ]
    }
   ],
   "source": [
    "prod_H2_prop_gaz = 0.59\n",
    "prod_H2_fe_gaz = 11.7 # kgCO2/kgH2\n",
    "prod_H2_prop_charbon = 0.19\n",
    "prod_H2_fe_charbon = 20 # kgCO2/kgH2\n",
    "print(prod_H2_prop_gaz*prod_H2_fe_gaz + prod_H2_prop_charbon*prod_H2_fe_charbon)\n",
    "# print(prod_H2_total*prod_H2_prop_gaz*prod_H2_fe_gaz + prod_H2_total*prod_H2_prop_charbon*prod_H2_fe_charbon)"
   ]
  },
  {
   "cell_type": "markdown",
   "metadata": {},
   "source": [
    "En supposant que tous les avions actuels sont remplacés par des avions à hydrogène produit avec les méthodes actuelles de production et en utilisant le mix électrique actuel, calculez et commentez les émissions de CO2 correspondantes."
   ]
  },
  {
   "cell_type": "code",
   "execution_count": 84,
   "metadata": {},
   "outputs": [],
   "source": [
    "scenario_H2_prod_actuelle_CO2 = 1"
   ]
  },
  {
   "cell_type": "markdown",
   "metadata": {},
   "source": [
    "### 3.2 Production par électrolyse\n",
    "\n",
    "On suppose maintenant que l'hydrogène est produit par électrolyse de l'eau, et on étudiera deux cas :\n",
    "1. le mix électrique actuel\n",
    "2. un mix électrique bas carbone\n",
    "\n",
    "On commence par étudier l'électrolyse.\n",
    "1. Trouver des valeurs de rendement de l'électrolyse."
   ]
  },
  {
   "cell_type": "code",
   "execution_count": null,
   "metadata": {},
   "outputs": [],
   "source": [
    "rendement_electrolyse_min = 1\n",
    "rendement_electrolyse_max = 1"
   ]
  },
  {
   "cell_type": "markdown",
   "metadata": {},
   "source": [
    "Calculez la quantité d'électricité produite nécessaire, et comparez-la à la quantité d'électricité produite actuellement, et à la quantité d'électricité produite de manière bas carbone."
   ]
  },
  {
   "cell_type": "code",
   "execution_count": null,
   "metadata": {},
   "outputs": [],
   "source": [
    "besoin_energie_primaire = 1"
   ]
  }
 ],
 "metadata": {
  "kernelspec": {
   "display_name": "Python 3",
   "language": "python",
   "name": "python3"
  },
  "language_info": {
   "codemirror_mode": {
    "name": "ipython",
    "version": 3
   },
   "file_extension": ".py",
   "mimetype": "text/x-python",
   "name": "python",
   "nbconvert_exporter": "python",
   "pygments_lexer": "ipython3",
   "version": "3.7.4"
  }
 },
 "nbformat": 4,
 "nbformat_minor": 5
}
