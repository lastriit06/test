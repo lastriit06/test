{
 "cells": [
  {
   "cell_type": "markdown",
   "id": "109cea4e-d42f-4359-902e-2e489b3a49a8",
   "metadata": {},
   "source": [
    "# **Partie 4 : Simulation et évaluation de scénarios durables pour l'aviation avec l'outil CAST**\n",
    "<a id=\"0\"></a>\n",
    "\n",
    "Suite à vos différentes estimations technologiques lors des deux BE précédents, l'objectif de ce Notebook est de modéliser et d'évaluer des scénarios de transition pour le secteur aérien. Pour cela, l'outil CAST sera utilisé : il permet de simuler des scénarios prospectifs pour l’aviation et d’évaluer leur durabilité climatique et énergétique. Différents modes d’utilisation, plus ou moins complexes, sont disponibles sur CAST et vont être explorés dans cette partie :\n",
    "- Découverte : l'utilisateur déplace des curseurs représentatifs pour simuler des scénarios pour l'aviation ; ce mode permet de bien comprendre les sensibilités des principaux leviers d'action\n",
    "- Scénarios : l'utilisateur affiche des scénarios déjà définis et paramétrés ; il s'agit du mode le plus simple d'utilisation\n",
    "- Expert : l'utilisateur rentre directement des valeurs pour les différents paramètres des modèles ; il s'agit du mode à utiliser pour élaborer plus finement des scénarios pour l'aviation\n",
    "\n",
    "\n",
    "Sommaire :<br>\n",
    "[1. Tutoriel](#1)<br>\n",
    "[2. Simulation et évaluation de votre scénario de référence](#2)<br>\n",
    "[3. Analyse de sensibilité et commentaires](#3)<br>\n",
    "-----\n",
    "-----"
   ]
  },
  {
   "cell_type": "markdown",
   "id": "4c00c75d-8709-40d3-bbf2-7ebeb9d28013",
   "metadata": {
    "tags": []
   },
   "source": [
    "## 1. Tutoriel\n",
    "<a id=\"1\"></a>\n",
    "\n",
    "L'objectif de cette partie est de prendre en main les bases de l'outil CAST. Les modes Scénarios et Découverte sont utilisés.\n",
    "\n",
    "-----\n",
    "\n",
    "### 1.1. Procédure de lancement de CAST\n",
    "\n",
    "Pour lancer CAST, réalisez la procédure de lancement en rentrant les commandes suivantes (sous un ordinateur fixe démarré sous Linux).\n",
    "\n",
    "<img src=\"Images/Lancement_CAST.png\" width=\"700\">\n",
    "\n",
    "-----\n",
    "### 1.2. Prise en main de l'outil CAST\n",
    "\n",
    "L’objectif de cette partie est d’utiliser les fonctions basiques de CAST pour analyser la durabilité climatique d’un scénario industriel, représenté sur la Figure 1. Les analyses seront faites pour +1,5°C et +2°C, avec des budgets carbone médians et sans considérer l’utilisation de stratégies de capture et stockage du carbone. Le mode Scénarios est utilisé.\n",
    "\n",
    "<img src=\"Images/ATAG.png\" width=\"500\">\n",
    "\n",
    "Sélectionnez le scénario « ATAG 2009 ». \n",
    "\n",
    "Dans un premier temps, seules les émissions de CO<sub>2</sub> sont considérées. Sélectionnez le graphe « Trajectoire des émissions globales de CO<sub>2</sub> ». Quelle part du budget carbone mondial devrait-t-on allouer à l’aviation pour que le scénario soit considéré comme durable ? Commentez.\n",
    "\n",
    "Dans un second temps, l’analyse est étendue aux effets non-CO<sub>2</sub>. Sélectionnez le graphe « Trajectoire du forçage radiatif effectif global ». Quelle part du budget carbone équivalent mondial devrait-t-on allouer à l’aviation pour que le scénario soit considéré comme durable ? Commentez."
   ]
  },
  {
   "cell_type": "markdown",
   "id": "80b1d4e7-c3f8-44a7-8a6f-6a3c0f261d9e",
   "metadata": {},
   "source": [
    "> **Réponses**"
   ]
  },
  {
   "cell_type": "markdown",
   "id": "471b9844-d981-44e7-8dca-bd6806427bc6",
   "metadata": {},
   "source": [
    "-----\n",
    "### 1.3. Analyse de scénarios illustratifs\n",
    "\n",
    "Dans cette partie, différents scénarios durables pour l’aviation vont être modélisés. Le tableau récapitulatif en 1.3.5. sera complété. La température de référence considérée sera +2°C, avec 67% de chance de réussite et sans considérer l’utilisation de stratégies de capture et stockage du carbone. L'impact de la crise sanitaire Covid-19 sera pris en compte. Le mode Découverte est utilisé.\n",
    "\n",
    "#### 1.3.1. Définition de 3 scénarios technoogiques de référence\n",
    "\n",
    "De nombreuses incertitudes demeurent sur les évolutions technologiques à venir pour les nouvelles générations d’avions. D’une part, des limites technologiques commencent à apparaître, par exemple sur les rendements de motorisation. D’autre part, des ruptures technologiques, comme les architectures de type aile volante, pourraient émerger ce qui permettrait de réduire significativement la consommation des avions. Par conséquent, il est difficile de prévoir l’évolution des émissions des avions pour les décennies à venir.\n",
    "\n",
    "Trois scénarios de référence concernant les leviers d’action technologiques sont définis dans le tableau en annexe. Estimez les émissions moyennes de CO<sub>2</sub> par passager-kilomètre pour la flotte d’avions en 2050 et complétez le tableau récapitulatif.\n",
    "\n",
    "#### 1.3.2. Analyse des scénarios climatiques (uniquement CO<sub>2</sub>)\n",
    "\n",
    "Les analyses se limiteront tout d'abord aux émissions de CO<sub>2</sub> de l’aviation.\n",
    "\n",
    "##### 1.3.2.1. Démarche 1 : Détermination de la part du budget carbone nécessaire\n",
    "\n",
    "On choisit de considérer une croissance tendancielle du trafic aérien, à savoir 3% par an.\n",
    "\n",
    "Pour chaque scénario, on cherche à équilibrer les émissions cumulées de CO<sub>2</sub> obtenues avec un budget carbone. Déterminez alors la part du budget carbone mondial qu’il faudrait allouer à l’aviation dans chaque cas.\n",
    "\n",
    "Complétez le tableau récapitulatif et commentez la plage de variation que vous obtenez. Quels sont les avantages/inconvénients de cette démarche ?\n",
    "\n",
    "\n",
    "##### 1.3.2.2. Démarche 2 : Détermination de l'évolution durable du trafic aérien\n",
    "\n",
    "On choisit cette fois-ci d’allouer 2,6% du budget carbone mondial à l’aviation (part de l’aviation dans les émissions mondiales de CO<sub>2</sub> en 2019).\n",
    "\n",
    "Pour chacun des scénarios technologiques, déterminez le taux de (dé)croissance annuel du trafic aérien pour équilibrer les émissions cumulées de CO<sub>2</sub> de l’aviation avec le budget carbone alloué à l’aviation.\n",
    "\n",
    "Complétez le tableau récapitulatif et commentez la plage de variation que vous obtenez. Quels sont les avantages/inconvénients de cette démarche ?"
   ]
  },
  {
   "cell_type": "markdown",
   "id": "389a80a0-3d22-488c-b8d0-450ad17f3104",
   "metadata": {},
   "source": [
    "> **Réponses**"
   ]
  },
  {
   "cell_type": "markdown",
   "id": "b71016cc-58a2-46ab-a873-373fafbf6436",
   "metadata": {},
   "source": [
    "#### 1.3.3. Analyse des scénarios climatiques (CO<sub>2</sub> et non-CO<sub>2</sub>)\n",
    "\n",
    "Dans la suite, les différents scénarios technologiques de référence et les taux de (dé)croissance associés issus de la démarche 2 seront conservés.\n",
    "\n",
    "Dans la partie précédente, seules les émissions de CO<sub>2</sub> ont été considérées pour définir des trajectoires durables. L’objectif de cette partie est de généraliser le raisonnement précédent aux effets non-CO<sub>2</sub>. Pour cela, la notion d’émissions équivalentes de CO<sub>2</sub> est utilisée. Dans cette partie, on alloue 5,5% du budget carbone équivalent mondial à l’aviation (part de l’aviation sur l’évolution de l’ERF mondial sur la période 2005-2011).\n",
    "\n",
    "Des stratégies spécifiques sur les effets non-CO<sub>2</sub> peuvent être mises en place, par exemple pour réduire la formation des traînées de condensation. Deux hypothèses sont considérées ici :\n",
    "- Aucune stratégie spécifique n’est mise en place\n",
    "- Des stratégies opérationnelles sont mises en place (réglage « Réaliste » du mode Découverte)\n",
    "\n",
    "En sélectionnant le graphe « Trajectoire du forçage radiatif global », vérifiez ou non la soutenabilité climatique des différents scénarios de référence de la partie précédente, pour les deux hypothèses précédentes. Complétez le tableau récapitulatif et analysez vos résultats.\n",
    "\n",
    "\n",
    "#### 1.3.4. Analyse des scénarios énergétiques\n",
    "\n",
    "Les analyses précédentes montrent que, pour un budget carbone fixé, les améliorations technologiques permettent d’assurer un niveau de trafic aérien plus important. Certaines de ces stratégies se basent notamment sur l’utilisation de carburants bas-carbone en remplacement du kérosène. Néanmoins, des limites demeurent sur la disponibilité de ces ressources énergétiques.\n",
    "\n",
    "Pour illustrer ce problème, on suppose ici que les carburants bas-carbone utilisés sont des biocarburants issus de la biomasse. L’hydrogène et les électrocarburants ne sont pas pris en compte dans cette étude. On considère ensuite que 150 EJ de biomasse seront disponibles à horizon 2050 dans le monde. Enfin, on suppose que le rendement pour obtenir des biocarburants via la biomasse est de 50%.\n",
    "\n",
    "Pour chaque scénario de référence, déterminez la quantité d’énergie nécessaire en 2050 issue des biocarburants. Estimez alors la part de la biomasse mondial nécessaire. Complétez le tableau récapitulatif et commentez."
   ]
  },
  {
   "cell_type": "markdown",
   "id": "b42dcb5f-f448-4b9a-89c4-04e0d90c803d",
   "metadata": {},
   "source": [
    "> **Réponses**"
   ]
  },
  {
   "cell_type": "markdown",
   "id": "2d8b9171-da63-4d43-a69d-fc09304f0826",
   "metadata": {},
   "source": [
    "#### 1.3.5. Tableau récapitulatif\n",
    "<a id=\"10\"></a>\n",
    "\n",
    "Vous trouverez ci-dessous le tableau récapitulatif dont vous deverez compléter les cellules rouges directement dans le code."
   ]
  },
  {
   "cell_type": "code",
   "execution_count": 1,
   "id": "101a67a0-2768-4d93-902f-bdf4d0120802",
   "metadata": {
    "tags": []
   },
   "outputs": [],
   "source": [
    "import ipysheet\n",
    "from ipysheet import sheet, cell\n",
    "\n",
    "Tutoriel = sheet(rows=13, columns=8)\n",
    "\n",
    "cell(0,0,\"Type\", color=\"white\", background_color=\"grey\");\n",
    "cell(0,1,\"Nom de la variable dans CAST\", color=\"white\", background_color=\"grey\");\n",
    "cell(0,2,\"Scénario 1\", color=\"white\", background_color=\"grey\");\n",
    "cell(0,3,\"Scénario 2\", color=\"white\", background_color=\"grey\");\n",
    "cell(0,4,\"Scénario 3\", color=\"white\", background_color=\"grey\");\n",
    "cell(0,5,\"Unité\", color=\"white\", background_color=\"grey\");\n",
    "cell(0,6,\"Description\", color=\"white\", background_color=\"grey\");\n",
    "cell(0,7,\"Remarque\", color=\"white\", background_color=\"grey\");\n",
    "\n",
    "cell(1,0,\"Paramètres technologiques\", color=\"white\", background_color=\"grey\");\n",
    "cell(1,1,\"Efficacité\");\n",
    "cell(1,2,\"Tendanciel\");\n",
    "cell(1,3,\"Peu ambitieux\");\n",
    "cell(1,4,\"Ambitieux\");\n",
    "cell(1,5,\"/\");\n",
    "cell(1,6,\"Réglage en mode Découverte du curseur concernant l'amélioration de l'efficacité énergétique des avions\");\n",
    "cell(1,7,\"/\");\n",
    "\n",
    "cell(2,0,\"Paramètres technologiques\", color=\"white\", background_color=\"grey\");\n",
    "cell(2,1,\"Opérations\");\n",
    "cell(2,2,\"Pessimiste\");\n",
    "cell(2,3,\"Réaliste\");\n",
    "cell(2,4,\"Optimiste\");\n",
    "cell(2,5,\"/\");\n",
    "cell(2,6,\"Réglage en mode Découverte du curseur concernant l'amélioration des opérations en vol et au sol\");\n",
    "cell(2,7,\"/\");\n",
    "\n",
    "cell(3,0,\"Paramètres technologiques\", color=\"white\", background_color=\"grey\");\n",
    "cell(3,1,\"Remplissage\");\n",
    "cell(3,2,\"Tendanciel\");\n",
    "cell(3,3,\"Peu ambitieux\");\n",
    "cell(3,4,\"Ambitieux\");\n",
    "cell(3,5,\"/\");\n",
    "cell(3,6,\"Réglage en mode Découverte du curseur concernant l'amélioration du taux de remplissage des avions\");\n",
    "cell(3,7,\"/\");\n",
    "\n",
    "cell(4,0,\"Paramètres technologiques\", color=\"white\", background_color=\"grey\");\n",
    "cell(4,1,\"Energie\");\n",
    "cell(4,2,\"0%\");\n",
    "cell(4,3,\"50%\");\n",
    "cell(4,4,\"100%\");\n",
    "cell(4,5,\"/\");\n",
    "cell(4,6,\"Réglage en mode Découverte du curseur concernant la part de la flotte qui aura accès à des carburants bas-carbone en 2050\");\n",
    "cell(4,7,\"/\");\n",
    "\n",
    "cell(5,0,\"Résultats CO2\", color=\"white\", background_color=\"grey\");\n",
    "cell(5,1,\"/\");\n",
    "cell(5,2,\"\", background_color=\"lightcoral\");\n",
    "cell(5,3,\"\", background_color=\"lightcoral\");\n",
    "cell(5,4,\"\", background_color=\"lightcoral\");\n",
    "cell(5,5,\"[gCO2/pkm]\");\n",
    "cell(5,6,\"Émissions moyennes de CO2 par passager-kilomètre pour la flotte d'avions en 2050\");\n",
    "cell(5,7,\"À lire sur la courbe 'Émissions de CO2 par pkm'\");\n",
    "\n",
    "cell(6,0,\"Résultats CO2\", color=\"white\", background_color=\"grey\");\n",
    "cell(6,1,\"/\");\n",
    "cell(6,2,\"\", background_color=\"lightcoral\");\n",
    "cell(6,3,\"\", background_color=\"lightcoral\");\n",
    "cell(6,4,\"\", background_color=\"lightcoral\");\n",
    "cell(6,5,\"[%]\");\n",
    "cell(6,6,\"Part du budget carbone à allouer à l'aviation pour une croissance annuelle de 3%\");\n",
    "cell(6,7,\"Vous pouvez directement lire la valeur sur le camembert central\");\n",
    "\n",
    "cell(7,0,\"Résultats CO2\", color=\"white\", background_color=\"grey\");\n",
    "cell(7,1,\"Trafic\");\n",
    "cell(7,2,\"\", background_color=\"lightcoral\");\n",
    "cell(7,3,\"\", background_color=\"lightcoral\");\n",
    "cell(7,4,\"\", background_color=\"lightcoral\");\n",
    "cell(7,5,\"[%]\");\n",
    "cell(7,6,\"Taux de (dé)croissance annuel du trafic aérien pour équilibrer avec le budget carbone (2,6% d'allocation)\");\n",
    "cell(7,7,\"/\");\n",
    "\n",
    "cell(8,0,\"Résultats CO2+non-CO2\", color=\"white\", background_color=\"grey\");\n",
    "cell(8,1,\"/\");\n",
    "cell(8,2,\"\", background_color=\"lightcoral\");\n",
    "cell(8,3,\"\", background_color=\"lightcoral\");\n",
    "cell(8,4,\"\", background_color=\"lightcoral\");\n",
    "cell(8,5,\"[%]\");\n",
    "cell(8,6,\"Part du budget carbone équivalent à allouer à l'aviation sans stratégies contre les contrails\");\n",
    "cell(8,7,\"Vous pouvez directement lire la valeur sur l'histogramme central\");\n",
    "\n",
    "cell(9,0,\"Résultats CO2+non-CO2\", color=\"white\", background_color=\"grey\");\n",
    "cell(9,1,\"/\");\n",
    "cell(9,2,\"\", background_color=\"lightcoral\");\n",
    "cell(9,3,\"\", background_color=\"lightcoral\");\n",
    "cell(9,4,\"\", background_color=\"lightcoral\");\n",
    "cell(9,5,\"[%]\");\n",
    "cell(9,6,\"Part du budget carbone équivalent à allouer à l'aviation avec stratégies opérationnelles contre les contrails\");\n",
    "cell(9,7,\"Vous pouvez directement lire la valeur sur l'histogramme central\");\n",
    "\n",
    "cell(10,0,\"Résultats énergie\", color=\"white\", background_color=\"grey\");\n",
    "cell(10,1,\"/\");\n",
    "cell(10,2,\"\", background_color=\"lightcoral\");\n",
    "cell(10,3,\"\", background_color=\"lightcoral\");\n",
    "cell(10,4,\"\", background_color=\"lightcoral\");\n",
    "cell(10,5,\"[Mtoe]\");\n",
    "cell(10,6,\"Énergie sous forme de biocarburants consommée par l'aviation en 2050, exprimée en Mtoe\");\n",
    "cell(10,7,\"À retrouver via la consommation énergétique globale et la part de la flotte bas-carbone\");\n",
    "\n",
    "cell(11,0,\"Résultats énergie\", color=\"white\", background_color=\"grey\");\n",
    "cell(11,1,\"/\");\n",
    "cell(11,2,\"\", background_color=\"lightcoral\");\n",
    "cell(11,3,\"\", background_color=\"lightcoral\");\n",
    "cell(11,4,\"\", background_color=\"lightcoral\");\n",
    "cell(11,5,\"[EJ]\");\n",
    "cell(11,6,\"Énergie sous forme de biocarburants consommée par l'aviation en 2050, exprimée en EJ\");\n",
    "cell(11,7,\"1 Mtoe = 0,0419 EJ\");\n",
    "\n",
    "cell(12,0,\"Résultats énergie\", color=\"white\", background_color=\"grey\");\n",
    "cell(12,1,\"/\");\n",
    "cell(12,2,\"\", background_color=\"lightcoral\");\n",
    "cell(12,3,\"\", background_color=\"lightcoral\");\n",
    "cell(12,4,\"\", background_color=\"lightcoral\");\n",
    "cell(12,5,\"[%]\");\n",
    "cell(12,6,\"Part de la biomasse nécessaire pour l'aviation en 2050\");\n",
    "cell(12,7,\"/\");"
   ]
  },
  {
   "cell_type": "code",
   "execution_count": 2,
   "id": "73fe8484-9890-472b-873d-15ce105f9ab6",
   "metadata": {},
   "outputs": [
    {
     "data": {
      "application/vnd.jupyter.widget-view+json": {
       "model_id": "3c4af5a35675418f84df6edde3659393",
       "version_major": 2,
       "version_minor": 0
      },
      "text/plain": [
       "Sheet(cells=(Cell(column_end=0, column_start=0, row_end=0, row_start=0, style={'color': 'white', 'backgroundCo…"
      ]
     },
     "metadata": {},
     "output_type": "display_data"
    }
   ],
   "source": [
    "Tutoriel"
   ]
  },
  {
   "cell_type": "markdown",
   "id": "acb022ab-0b4f-4bad-a3f9-db2a02097d05",
   "metadata": {},
   "source": [
    "-----\n",
    "-----\n",
    "## 2. Simulation et évaluation de votre scénario de référence\n",
    "<a id=\"2\"></a>\n",
    "\n",
    "Maintenant que vous avez découvert les principales fonctionnalités de CAST, vous allez pouvoir simuler et évaluer votre propre scénario de référence. Pour cela, vous allez utiliser le mode Expert de CAST. Différentes variables devront être réglées en fonction des choix que vous avez fait dans les précédents BE. Pour les variables que vous n'avez pas étudié durant les précédents BE, vous pouvez considérer les valeurs médianes proposées.\n",
    "\n",
    "Le scénario que vous avez défini est-il durable d'un point de vue climatique ? D'un point de vue énergétique ? Commentez."
   ]
  },
  {
   "cell_type": "markdown",
   "id": "98e2eb6b-2638-4d52-8ae1-94a9a586c2ff",
   "metadata": {},
   "source": [
    "> **Réponses**"
   ]
  },
  {
   "cell_type": "markdown",
   "id": "5dcba251-c2a5-4671-8fb1-47c61cdb7a8b",
   "metadata": {},
   "source": [
    "-----\n",
    "-----\n",
    "## 3. Analyse de sensibilité et commentaires\n",
    "<a id=\"3\"></a>\n",
    "\n",
    "L'objectif de cette dernière partie est de corriger et d'améliorer votre scénario. Vous devez réaliser des analyses de sensibilité sur différentes variables pour obtenir des scénarios durables pour l'aviation.\n",
    "\n",
    "Justifiez et détaillez votre démarche. Commentez les résultats que vous obtenez."
   ]
  },
  {
   "cell_type": "markdown",
   "id": "d51950aa-1f39-49da-bc71-1f6401d0df4d",
   "metadata": {},
   "source": [
    "> **Réponses**"
   ]
  },
  {
   "cell_type": "markdown",
   "id": "054fadb2-2b98-4b4a-b697-b13bc68284f8",
   "metadata": {},
   "source": [
    "Pour terminer, choisissez, parmi tous les scénarios que vous avez pu développer, un scénario durable pour l'aviation que vous présenterez aux autres étudiants. Vous devrez présenter les hypothèses mondiales globales (objectif de température, capture et stockage de carbone, mix électrique...), la trajectoire des émissions de CO<sub>2</sub>, la part du budget carbone consommé correspondante, les résultats en terme de température (en incluant les effets non-CO<sub>2</sub>) et les consommations énergétiques avec les parts allouées correspondantes pour la biomasse et l'électricité."
   ]
  },
  {
   "cell_type": "markdown",
   "id": "6113de58-26e5-4766-82c5-999cab513a02",
   "metadata": {},
   "source": [
    "> **Réponses**"
   ]
  },
  {
   "cell_type": "code",
   "execution_count": null,
   "id": "16c964da-deb6-414a-9f9e-534253a7c460",
   "metadata": {},
   "outputs": [],
   "source": []
  }
 ],
 "metadata": {
  "kernelspec": {
   "display_name": "Python 3 (ipykernel)",
   "language": "python",
   "name": "python3"
  },
  "language_info": {
   "codemirror_mode": {
    "name": "ipython",
    "version": 3
   },
   "file_extension": ".py",
   "mimetype": "text/x-python",
   "name": "python",
   "nbconvert_exporter": "python",
   "pygments_lexer": "ipython3",
   "version": "3.8.10"
  }
 },
 "nbformat": 4,
 "nbformat_minor": 5
}
